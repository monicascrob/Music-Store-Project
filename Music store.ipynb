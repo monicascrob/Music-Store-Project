{
 "cells": [
  {
   "cell_type": "markdown",
   "metadata": {},
   "source": [
    "# Answering Business Questions using SQL. Music Store project"
   ]
  },
  {
   "cell_type": "markdown",
   "metadata": {},
   "source": [
    "The goal for this project is help the decision makers of the store deal with their daily business questions.  "
   ]
  },
  {
   "cell_type": "markdown",
   "metadata": {},
   "source": [
    "# Add new artists to the store\n",
    "The Chinook record store has signed a deal with a new record label. Select the first three albums that will be added to the store out of these 4:\n",
    " - Regal/Hip-hop\n",
    " - Red Tone/Punk\n",
    " - Meteor and the Girls/Pop\n",
    " - Slim Jim Bites/Blues\n",
    "The record label wants their albums to be advertised in the USA, so we will need to write a query to find out which genre sell the most tracks in the USA."
   ]
  },
  {
   "cell_type": "markdown",
   "metadata": {},
   "source": [
    "# Sales support agents' performance\n",
    "Each custumer gets assigned to a sales support agent after making their first purchase. \n",
    "\n",
    "Analyze the purchases of customers belonging to each employee to see if one is performing better than the other.\n"
   ]
  },
  {
   "cell_type": "markdown",
   "metadata": {},
   "source": [
    "# Analyze the sales data by country\n",
    "Calculate data for each country on the total number of custumers, total value of sales, average value of sales per customer and average order value.\n",
    "\n",
    "Use the country value from the customer table and ignore the country from the billing address in the invoice table.\n",
    "\n",
    "Countries with only one custumer, should be grouped as \"Other\"."
   ]
  },
  {
   "cell_type": "markdown",
   "metadata": {},
   "source": [
    "# Should the store change their purchasing strategy?\n",
    "Currently, the store allows customers to either purchase a whole album or pucrhase a collection of one or more individual tracks.\n",
    "\n",
    "The management is considering to change that strategy to save money, and purchase only the most popular tracks from each album from record companies instead of every track.\n",
    "\n",
    "We need to find out what percentage of purchases are individual tracks vs whole albums, so they have a better understanding of the effect that this decision would have on the overall revenue."
   ]
  },
  {
   "cell_type": "markdown",
   "metadata": {},
   "source": [
    "We'll be working with a modified version of a database called Chinook. The Chinook database contains information about a fictional digital music shop - a mini-iTunes store.\n",
    "\n",
    "The Chinook database contains information about the artists, songs, and albums from the music shop, as well as information on the shop's employees, customers, and the customers purchases. This information is contained in eleven tables:\n",
    "- employee\n",
    "- customer\n",
    "- invoice\n",
    "- invoice_line\n",
    "- playlist\n",
    "- playlist_track\n",
    "- track\n",
    "- media_type\n",
    "- genre\n",
    "- artist\n",
    "- album\n",
    "\n",
    "The database schema is included in the folder under the name chinook-schema.svg.\n",
    "\n",
    "You can check more about our database here:\n",
    "https://github.com/lerocha/chinook-database"
   ]
  },
  {
   "cell_type": "markdown",
   "metadata": {
    "collapsed": true
   },
   "source": [
    "Connect Jupyter Notebook to the database file"
   ]
  },
  {
   "cell_type": "code",
   "execution_count": 2,
   "metadata": {
    "collapsed": false
   },
   "outputs": [
    {
     "data": {
      "text/plain": [
       "'Connected: None@chinook.db'"
      ]
     },
     "execution_count": 2,
     "metadata": {},
     "output_type": "execute_result"
    }
   ],
   "source": [
    "%%capture\n",
    "%load_ext sql\n",
    "%sql sqlite:///chinook.db"
   ]
  },
  {
   "cell_type": "markdown",
   "metadata": {},
   "source": [
    "Getting familiar with our data"
   ]
  },
  {
   "cell_type": "code",
   "execution_count": 3,
   "metadata": {
    "collapsed": false
   },
   "outputs": [
    {
     "name": "stdout",
     "output_type": "stream",
     "text": [
      "Done.\n"
     ]
    },
    {
     "data": {
      "text/html": [
       "<table>\n",
       "    <tr>\n",
       "        <th>name</th>\n",
       "        <th>type</th>\n",
       "    </tr>\n",
       "    <tr>\n",
       "        <td>album</td>\n",
       "        <td>table</td>\n",
       "    </tr>\n",
       "    <tr>\n",
       "        <td>artist</td>\n",
       "        <td>table</td>\n",
       "    </tr>\n",
       "    <tr>\n",
       "        <td>customer</td>\n",
       "        <td>table</td>\n",
       "    </tr>\n",
       "    <tr>\n",
       "        <td>employee</td>\n",
       "        <td>table</td>\n",
       "    </tr>\n",
       "    <tr>\n",
       "        <td>genre</td>\n",
       "        <td>table</td>\n",
       "    </tr>\n",
       "    <tr>\n",
       "        <td>invoice</td>\n",
       "        <td>table</td>\n",
       "    </tr>\n",
       "    <tr>\n",
       "        <td>invoice_line</td>\n",
       "        <td>table</td>\n",
       "    </tr>\n",
       "    <tr>\n",
       "        <td>media_type</td>\n",
       "        <td>table</td>\n",
       "    </tr>\n",
       "    <tr>\n",
       "        <td>playlist</td>\n",
       "        <td>table</td>\n",
       "    </tr>\n",
       "    <tr>\n",
       "        <td>playlist_track</td>\n",
       "        <td>table</td>\n",
       "    </tr>\n",
       "    <tr>\n",
       "        <td>track</td>\n",
       "        <td>table</td>\n",
       "    </tr>\n",
       "</table>"
      ],
      "text/plain": [
       "[('album', 'table'),\n",
       " ('artist', 'table'),\n",
       " ('customer', 'table'),\n",
       " ('employee', 'table'),\n",
       " ('genre', 'table'),\n",
       " ('invoice', 'table'),\n",
       " ('invoice_line', 'table'),\n",
       " ('media_type', 'table'),\n",
       " ('playlist', 'table'),\n",
       " ('playlist_track', 'table'),\n",
       " ('track', 'table')]"
      ]
     },
     "execution_count": 3,
     "metadata": {},
     "output_type": "execute_result"
    }
   ],
   "source": [
    "%%sql\n",
    "SELECT\n",
    "    name,\n",
    "    type\n",
    "FROM sqlite_master\n",
    "WHERE type IN (\"table\", \"view\")"
   ]
  },
  {
   "cell_type": "code",
   "execution_count": 4,
   "metadata": {
    "collapsed": false
   },
   "outputs": [
    {
     "name": "stdout",
     "output_type": "stream",
     "text": [
      "Done.\n"
     ]
    },
    {
     "data": {
      "text/html": [
       "<table>\n",
       "    <tr>\n",
       "        <th>media_type_id</th>\n",
       "        <th>name</th>\n",
       "    </tr>\n",
       "    <tr>\n",
       "        <td>1</td>\n",
       "        <td>MPEG audio file</td>\n",
       "    </tr>\n",
       "    <tr>\n",
       "        <td>2</td>\n",
       "        <td>Protected AAC audio file</td>\n",
       "    </tr>\n",
       "    <tr>\n",
       "        <td>3</td>\n",
       "        <td>Protected MPEG-4 video file</td>\n",
       "    </tr>\n",
       "    <tr>\n",
       "        <td>4</td>\n",
       "        <td>Purchased AAC audio file</td>\n",
       "    </tr>\n",
       "    <tr>\n",
       "        <td>5</td>\n",
       "        <td>AAC audio file</td>\n",
       "    </tr>\n",
       "</table>"
      ],
      "text/plain": [
       "[(1, 'MPEG audio file'),\n",
       " (2, 'Protected AAC audio file'),\n",
       " (3, 'Protected MPEG-4 video file'),\n",
       " (4, 'Purchased AAC audio file'),\n",
       " (5, 'AAC audio file')]"
      ]
     },
     "execution_count": 4,
     "metadata": {},
     "output_type": "execute_result"
    }
   ],
   "source": [
    "%%sql\n",
    "SELECT * FROM media_type\n",
    "LIMIT 5"
   ]
  },
  {
   "cell_type": "code",
   "execution_count": 5,
   "metadata": {
    "collapsed": false
   },
   "outputs": [
    {
     "name": "stdout",
     "output_type": "stream",
     "text": [
      "Done.\n"
     ]
    },
    {
     "data": {
      "text/html": [
       "<table>\n",
       "    <tr>\n",
       "        <th>customer_id</th>\n",
       "        <th>first_name</th>\n",
       "        <th>last_name</th>\n",
       "        <th>company</th>\n",
       "        <th>address</th>\n",
       "        <th>city</th>\n",
       "        <th>state</th>\n",
       "        <th>country</th>\n",
       "        <th>postal_code</th>\n",
       "        <th>phone</th>\n",
       "        <th>fax</th>\n",
       "        <th>email</th>\n",
       "        <th>support_rep_id</th>\n",
       "    </tr>\n",
       "    <tr>\n",
       "        <td>1</td>\n",
       "        <td>Luís</td>\n",
       "        <td>Gonçalves</td>\n",
       "        <td>Embraer - Empresa Brasileira de Aeronáutica S.A.</td>\n",
       "        <td>Av. Brigadeiro Faria Lima, 2170</td>\n",
       "        <td>São José dos Campos</td>\n",
       "        <td>SP</td>\n",
       "        <td>Brazil</td>\n",
       "        <td>12227-000</td>\n",
       "        <td>+55 (12) 3923-5555</td>\n",
       "        <td>+55 (12) 3923-5566</td>\n",
       "        <td>luisg@embraer.com.br</td>\n",
       "        <td>3</td>\n",
       "    </tr>\n",
       "    <tr>\n",
       "        <td>2</td>\n",
       "        <td>Leonie</td>\n",
       "        <td>Köhler</td>\n",
       "        <td>None</td>\n",
       "        <td>Theodor-Heuss-Straße 34</td>\n",
       "        <td>Stuttgart</td>\n",
       "        <td>None</td>\n",
       "        <td>Germany</td>\n",
       "        <td>70174</td>\n",
       "        <td>+49 0711 2842222</td>\n",
       "        <td>None</td>\n",
       "        <td>leonekohler@surfeu.de</td>\n",
       "        <td>5</td>\n",
       "    </tr>\n",
       "    <tr>\n",
       "        <td>3</td>\n",
       "        <td>François</td>\n",
       "        <td>Tremblay</td>\n",
       "        <td>None</td>\n",
       "        <td>1498 rue Bélanger</td>\n",
       "        <td>Montréal</td>\n",
       "        <td>QC</td>\n",
       "        <td>Canada</td>\n",
       "        <td>H2G 1A7</td>\n",
       "        <td>+1 (514) 721-4711</td>\n",
       "        <td>None</td>\n",
       "        <td>ftremblay@gmail.com</td>\n",
       "        <td>3</td>\n",
       "    </tr>\n",
       "    <tr>\n",
       "        <td>4</td>\n",
       "        <td>Bjørn</td>\n",
       "        <td>Hansen</td>\n",
       "        <td>None</td>\n",
       "        <td>Ullevålsveien 14</td>\n",
       "        <td>Oslo</td>\n",
       "        <td>None</td>\n",
       "        <td>Norway</td>\n",
       "        <td>0171</td>\n",
       "        <td>+47 22 44 22 22</td>\n",
       "        <td>None</td>\n",
       "        <td>bjorn.hansen@yahoo.no</td>\n",
       "        <td>4</td>\n",
       "    </tr>\n",
       "    <tr>\n",
       "        <td>5</td>\n",
       "        <td>František</td>\n",
       "        <td>Wichterlová</td>\n",
       "        <td>JetBrains s.r.o.</td>\n",
       "        <td>Klanova 9/506</td>\n",
       "        <td>Prague</td>\n",
       "        <td>None</td>\n",
       "        <td>Czech Republic</td>\n",
       "        <td>14700</td>\n",
       "        <td>+420 2 4172 5555</td>\n",
       "        <td>+420 2 4172 5555</td>\n",
       "        <td>frantisekw@jetbrains.com</td>\n",
       "        <td>4</td>\n",
       "    </tr>\n",
       "</table>"
      ],
      "text/plain": [
       "[(1, 'Luís', 'Gonçalves', 'Embraer - Empresa Brasileira de Aeronáutica S.A.', 'Av. Brigadeiro Faria Lima, 2170', 'São José dos Campos', 'SP', 'Brazil', '12227-000', '+55 (12) 3923-5555', '+55 (12) 3923-5566', 'luisg@embraer.com.br', 3),\n",
       " (2, 'Leonie', 'Köhler', None, 'Theodor-Heuss-Straße 34', 'Stuttgart', None, 'Germany', '70174', '+49 0711 2842222', None, 'leonekohler@surfeu.de', 5),\n",
       " (3, 'François', 'Tremblay', None, '1498 rue Bélanger', 'Montréal', 'QC', 'Canada', 'H2G 1A7', '+1 (514) 721-4711', None, 'ftremblay@gmail.com', 3),\n",
       " (4, 'Bjørn', 'Hansen', None, 'Ullevålsveien 14', 'Oslo', None, 'Norway', '0171', '+47 22 44 22 22', None, 'bjorn.hansen@yahoo.no', 4),\n",
       " (5, 'František', 'Wichterlová', 'JetBrains s.r.o.', 'Klanova 9/506', 'Prague', None, 'Czech Republic', '14700', '+420 2 4172 5555', '+420 2 4172 5555', 'frantisekw@jetbrains.com', 4)]"
      ]
     },
     "execution_count": 5,
     "metadata": {},
     "output_type": "execute_result"
    }
   ],
   "source": [
    "%%sql\n",
    "SELECT * FROM customer\n",
    "LIMIT 5"
   ]
  },
  {
   "cell_type": "markdown",
   "metadata": {},
   "source": [
    "# Add new artists to the store\n",
    "Write a query that returns each genre, with the number of tracks sold in the USA, in absolute numbers and in percentages."
   ]
  },
  {
   "cell_type": "code",
   "execution_count": 36,
   "metadata": {
    "collapsed": false
   },
   "outputs": [
    {
     "name": "stdout",
     "output_type": "stream",
     "text": [
      "Done.\n"
     ]
    },
    {
     "data": {
      "text/html": [
       "<table>\n",
       "    <tr>\n",
       "        <th>Genre</th>\n",
       "        <th>Total_Sales</th>\n",
       "        <th>Percentage_Sold</th>\n",
       "    </tr>\n",
       "    <tr>\n",
       "        <td>Rock</td>\n",
       "        <td>561</td>\n",
       "        <td>0.534</td>\n",
       "    </tr>\n",
       "    <tr>\n",
       "        <td>Alternative &amp; Punk</td>\n",
       "        <td>130</td>\n",
       "        <td>0.124</td>\n",
       "    </tr>\n",
       "    <tr>\n",
       "        <td>Metal</td>\n",
       "        <td>124</td>\n",
       "        <td>0.118</td>\n",
       "    </tr>\n",
       "    <tr>\n",
       "        <td>R&amp;B/Soul</td>\n",
       "        <td>53</td>\n",
       "        <td>0.05</td>\n",
       "    </tr>\n",
       "    <tr>\n",
       "        <td>Blues</td>\n",
       "        <td>36</td>\n",
       "        <td>0.034</td>\n",
       "    </tr>\n",
       "    <tr>\n",
       "        <td>Alternative</td>\n",
       "        <td>35</td>\n",
       "        <td>0.033</td>\n",
       "    </tr>\n",
       "    <tr>\n",
       "        <td>Latin</td>\n",
       "        <td>22</td>\n",
       "        <td>0.021</td>\n",
       "    </tr>\n",
       "    <tr>\n",
       "        <td>Pop</td>\n",
       "        <td>22</td>\n",
       "        <td>0.021</td>\n",
       "    </tr>\n",
       "    <tr>\n",
       "        <td>Hip Hop/Rap</td>\n",
       "        <td>20</td>\n",
       "        <td>0.019</td>\n",
       "    </tr>\n",
       "    <tr>\n",
       "        <td>Jazz</td>\n",
       "        <td>14</td>\n",
       "        <td>0.013</td>\n",
       "    </tr>\n",
       "    <tr>\n",
       "        <td>Easy Listening</td>\n",
       "        <td>13</td>\n",
       "        <td>0.012</td>\n",
       "    </tr>\n",
       "    <tr>\n",
       "        <td>Reggae</td>\n",
       "        <td>6</td>\n",
       "        <td>0.006</td>\n",
       "    </tr>\n",
       "    <tr>\n",
       "        <td>Electronica/Dance</td>\n",
       "        <td>5</td>\n",
       "        <td>0.005</td>\n",
       "    </tr>\n",
       "    <tr>\n",
       "        <td>Classical</td>\n",
       "        <td>4</td>\n",
       "        <td>0.004</td>\n",
       "    </tr>\n",
       "    <tr>\n",
       "        <td>Heavy Metal</td>\n",
       "        <td>3</td>\n",
       "        <td>0.003</td>\n",
       "    </tr>\n",
       "    <tr>\n",
       "        <td>Soundtrack</td>\n",
       "        <td>2</td>\n",
       "        <td>0.002</td>\n",
       "    </tr>\n",
       "    <tr>\n",
       "        <td>TV Shows</td>\n",
       "        <td>1</td>\n",
       "        <td>0.001</td>\n",
       "    </tr>\n",
       "</table>"
      ],
      "text/plain": [
       "[('Rock', 561, 0.534),\n",
       " ('Alternative & Punk', 130, 0.124),\n",
       " ('Metal', 124, 0.118),\n",
       " ('R&B/Soul', 53, 0.05),\n",
       " ('Blues', 36, 0.034),\n",
       " ('Alternative', 35, 0.033),\n",
       " ('Latin', 22, 0.021),\n",
       " ('Pop', 22, 0.021),\n",
       " ('Hip Hop/Rap', 20, 0.019),\n",
       " ('Jazz', 14, 0.013),\n",
       " ('Easy Listening', 13, 0.012),\n",
       " ('Reggae', 6, 0.006),\n",
       " ('Electronica/Dance', 5, 0.005),\n",
       " ('Classical', 4, 0.004),\n",
       " ('Heavy Metal', 3, 0.003),\n",
       " ('Soundtrack', 2, 0.002),\n",
       " ('TV Shows', 1, 0.001)]"
      ]
     },
     "execution_count": 36,
     "metadata": {},
     "output_type": "execute_result"
    }
   ],
   "source": [
    "%%sql\n",
    "\n",
    "WITH USA_customers AS\n",
    "   (\n",
    "     SELECT \n",
    "         i.*,\n",
    "         il.*\n",
    "      FROM invoice i\n",
    "      INNER JOIN invoice_line il ON i.invoice_id = il.invoice_id\n",
    "      WHERE i.billing_country = \"USA\"\n",
    "   )\n",
    "SELECT\n",
    "  g.name Genre,\n",
    "  SUM(USA_customers.quantity) Total_Sales,\n",
    "  ROUND(CAST(SUM(USA_customers.quantity) AS FLOAT) / (\n",
    "                                                 SELECT COUNT(USA_customers.invoice_line_id) FROM USA_customers\n",
    "                                                ),3) Percentage_Sold\n",
    "FROM track t\n",
    "INNER JOIN USA_customers ON USA_customers.track_id = t.track_id\n",
    "INNER JOIN genre g ON g.genre_id = t.genre_id\n",
    "GROUP BY 1\n",
    "ORDER BY 2 DESC\n",
    "  "
   ]
  },
  {
   "cell_type": "markdown",
   "metadata": {},
   "source": [
    "The best selling genres in the USA out of the 4, are Punk, Blues and Pop. So the advise would be to go with the artists that represent these genres. On the other hand, after making this analysis, we can see that 53% of the tracks/albums sold are Rock. We should definitely take that into consideration when we purchase futuer albums."
   ]
  },
  {
   "cell_type": "markdown",
   "metadata": {},
   "source": [
    "# Sales support agents' performance\n",
    "Write a query that finds the total dollar amount of sales assigned to each sales support agent within the company.\n"
   ]
  },
  {
   "cell_type": "code",
   "execution_count": 41,
   "metadata": {
    "collapsed": false
   },
   "outputs": [
    {
     "name": "stdout",
     "output_type": "stream",
     "text": [
      "Done.\n"
     ]
    },
    {
     "data": {
      "text/html": [
       "<table>\n",
       "    <tr>\n",
       "        <th>Employee_Name</th>\n",
       "        <th>Hire_Date</th>\n",
       "        <th>Total_Sales</th>\n",
       "    </tr>\n",
       "    <tr>\n",
       "        <td>Jane Peacock</td>\n",
       "        <td>2017-04-01 00:00:00</td>\n",
       "        <td>1731.5100000000039</td>\n",
       "    </tr>\n",
       "    <tr>\n",
       "        <td>Margaret Park</td>\n",
       "        <td>2017-05-03 00:00:00</td>\n",
       "        <td>1584.0000000000034</td>\n",
       "    </tr>\n",
       "    <tr>\n",
       "        <td>Steve Johnson</td>\n",
       "        <td>2017-10-17 00:00:00</td>\n",
       "        <td>1393.920000000002</td>\n",
       "    </tr>\n",
       "</table>"
      ],
      "text/plain": [
       "[('Jane Peacock', '2017-04-01 00:00:00', 1731.5100000000039),\n",
       " ('Margaret Park', '2017-05-03 00:00:00', 1584.0000000000034),\n",
       " ('Steve Johnson', '2017-10-17 00:00:00', 1393.920000000002)]"
      ]
     },
     "execution_count": 41,
     "metadata": {},
     "output_type": "execute_result"
    }
   ],
   "source": [
    "%%sql\n",
    "\n",
    "SELECT\n",
    "   e.first_name || \" \" || e.last_name Employee_Name,\n",
    "   e.hire_date Hire_Date,\n",
    "   SUM(i.total) Total_Sales\n",
    "FROM employee e\n",
    "INNER JOIN customer c ON c.support_rep_id = e.employee_id\n",
    "INNER JOIN invoice i ON i.customer_id = c.customer_id\n",
    "WHERE e.title = \"Sales Support Agent\"\n",
    "GROUP BY 1\n",
    "ORDER BY 3 DESC"
   ]
  },
  {
   "cell_type": "markdown",
   "metadata": {},
   "source": [
    "By looking at this analysis, we may say that the sales performance is directly related to the employee's hiring date. Either because they have more time to sell or have more time and training invested in them. We will need to investigate that forward."
   ]
  },
  {
   "cell_type": "markdown",
   "metadata": {},
   "source": [
    "# Analyze the sales data by country\n",
    "Write a query that collects data on purchases from different countries:\n",
    "- Where a country has only one customer, collect them into an \"Other\" group\n",
    "- The result should be sorted by the total sales from highest to lowest with the \"Other\" group at the very bottom\n",
    "- For each country include: total number of customers, total value of sales, average value of sales per customer, average order value"
   ]
  },
  {
   "cell_type": "code",
   "execution_count": 46,
   "metadata": {
    "collapsed": false
   },
   "outputs": [
    {
     "name": "stdout",
     "output_type": "stream",
     "text": [
      "Done.\n"
     ]
    },
    {
     "data": {
      "text/html": [
       "<table>\n",
       "    <tr>\n",
       "        <th>Country</th>\n",
       "        <th>Customers</th>\n",
       "        <th>Total_Sales</th>\n",
       "        <th>Average_per_Customer</th>\n",
       "        <th>Average_Order_Value</th>\n",
       "    </tr>\n",
       "    <tr>\n",
       "        <td>USA</td>\n",
       "        <td>13</td>\n",
       "        <td>1040.49</td>\n",
       "        <td>80.038</td>\n",
       "        <td>7.943</td>\n",
       "    </tr>\n",
       "    <tr>\n",
       "        <td>Canada</td>\n",
       "        <td>8</td>\n",
       "        <td>535.59</td>\n",
       "        <td>66.949</td>\n",
       "        <td>7.047</td>\n",
       "    </tr>\n",
       "    <tr>\n",
       "        <td>Brazil</td>\n",
       "        <td>5</td>\n",
       "        <td>427.68</td>\n",
       "        <td>85.536</td>\n",
       "        <td>7.011</td>\n",
       "    </tr>\n",
       "    <tr>\n",
       "        <td>France</td>\n",
       "        <td>5</td>\n",
       "        <td>389.07</td>\n",
       "        <td>77.814</td>\n",
       "        <td>7.781</td>\n",
       "    </tr>\n",
       "    <tr>\n",
       "        <td>Germany</td>\n",
       "        <td>4</td>\n",
       "        <td>334.62</td>\n",
       "        <td>83.655</td>\n",
       "        <td>8.161</td>\n",
       "    </tr>\n",
       "    <tr>\n",
       "        <td>Czech Republic</td>\n",
       "        <td>2</td>\n",
       "        <td>273.24</td>\n",
       "        <td>136.62</td>\n",
       "        <td>9.108</td>\n",
       "    </tr>\n",
       "    <tr>\n",
       "        <td>United Kingdom</td>\n",
       "        <td>3</td>\n",
       "        <td>245.52</td>\n",
       "        <td>81.84</td>\n",
       "        <td>8.769</td>\n",
       "    </tr>\n",
       "    <tr>\n",
       "        <td>Portugal</td>\n",
       "        <td>2</td>\n",
       "        <td>185.13</td>\n",
       "        <td>92.565</td>\n",
       "        <td>6.384</td>\n",
       "    </tr>\n",
       "    <tr>\n",
       "        <td>India</td>\n",
       "        <td>2</td>\n",
       "        <td>183.15</td>\n",
       "        <td>91.575</td>\n",
       "        <td>8.721</td>\n",
       "    </tr>\n",
       "    <tr>\n",
       "        <td>OTHER</td>\n",
       "        <td>15</td>\n",
       "        <td>1094.94</td>\n",
       "        <td>72.996</td>\n",
       "        <td>7.449</td>\n",
       "    </tr>\n",
       "</table>"
      ],
      "text/plain": [
       "[('USA', 13, 1040.49, 80.038, 7.943),\n",
       " ('Canada', 8, 535.59, 66.949, 7.047),\n",
       " ('Brazil', 5, 427.68, 85.536, 7.011),\n",
       " ('France', 5, 389.07, 77.814, 7.781),\n",
       " ('Germany', 4, 334.62, 83.655, 8.161),\n",
       " ('Czech Republic', 2, 273.24, 136.62, 9.108),\n",
       " ('United Kingdom', 3, 245.52, 81.84, 8.769),\n",
       " ('Portugal', 2, 185.13, 92.565, 6.384),\n",
       " ('India', 2, 183.15, 91.575, 8.721),\n",
       " ('OTHER', 15, 1094.94, 72.996, 7.449)]"
      ]
     },
     "execution_count": 46,
     "metadata": {},
     "output_type": "execute_result"
    }
   ],
   "source": [
    "%%sql\n",
    "WITH country_other AS\n",
    "    (\n",
    "     SELECT\n",
    "        CASE\n",
    "            WHEN\n",
    "                (SELECT COUNT(*)\n",
    "                   FROM customer\n",
    "                  WHERE country = c.country\n",
    "                 ) = 1 THEN \"OTHER\"\n",
    "            ELSE c.country\n",
    "        END AS country,\n",
    "        c.customer_id,\n",
    "        i.*\n",
    "      FROM invoice i\n",
    "      INNER JOIN customer c ON c.customer_id = i.customer_id\n",
    "    )\n",
    "SELECT\n",
    " Country,\n",
    " Customers,\n",
    " Total_Sales,\n",
    " Average_per_Customer,\n",
    " Average_Order_Value\n",
    "FROM\n",
    " (\n",
    "  SELECT\n",
    "   Country,\n",
    "   COUNT(DISTINCT customer_id) Customers,\n",
    "   ROUND(SUM(total), 3) Total_Sales,\n",
    "   ROUND(SUM(total) / COUNT(DISTINCT customer_id), 3) Average_per_Customer,\n",
    "   ROUND(SUM(total) / COUNT(DISTINCT invoice_id), 3) Average_Order_Value,\n",
    "   CASE \n",
    "       WHEN country = \"OTHER\" THEN 1\n",
    "                              ELSE 0\n",
    "   END AS sort\n",
    "FROM country_other\n",
    "GROUP BY 1\n",
    "ORDER BY sort ASC, total_sales DESC)\n"
   ]
  },
  {
   "cell_type": "markdown",
   "metadata": {},
   "source": [
    "Most customers are from the USA and Canada, that makes total sense as our store's focus is on USA customers. \n",
    "\n",
    "What's interesting to see is that Czech Republic, Portugal and India custumers have the highest average in our list, so we might explore more that opportunity. We will definitely need to have more data in order to make that decision, as now we only have 3 customers in those markets."
   ]
  },
  {
   "cell_type": "markdown",
   "metadata": {},
   "source": [
    "# Should the store change their purchasing strategy?\n",
    "Write a query that categorizes each invoice as either an album purchase or not and calculate the number of invoices and the purcentage of invoices.\n",
    "\n",
    "We can ignore albums that have only one or two tracks (this doesn't concern maximizing revenue) or the case when custumers may decide to manually select every track from an album, then add a few individual tracks from other albums (this rarely happens). "
   ]
  },
  {
   "cell_type": "code",
   "execution_count": 49,
   "metadata": {
    "collapsed": false
   },
   "outputs": [
    {
     "name": "stdout",
     "output_type": "stream",
     "text": [
      "Done.\n"
     ]
    },
    {
     "data": {
      "text/html": [
       "<table>\n",
       "    <tr>\n",
       "        <th>Album_Purchase</th>\n",
       "        <th>Number_of_Invoices</th>\n",
       "        <th>Percentage_of_Invoices</th>\n",
       "    </tr>\n",
       "    <tr>\n",
       "        <td>NO</td>\n",
       "        <td>500</td>\n",
       "        <td>0.8143322475570033</td>\n",
       "    </tr>\n",
       "    <tr>\n",
       "        <td>YES</td>\n",
       "        <td>114</td>\n",
       "        <td>0.18566775244299674</td>\n",
       "    </tr>\n",
       "</table>"
      ],
      "text/plain": [
       "[('NO', 500, 0.8143322475570033), ('YES', 114, 0.18566775244299674)]"
      ]
     },
     "execution_count": 49,
     "metadata": {},
     "output_type": "execute_result"
    }
   ],
   "source": [
    "%%sql\n",
    "\n",
    "WITH invoice_first_track AS\n",
    "    (\n",
    "     SELECT\n",
    "        il.invoice_id invoice_id,\n",
    "        MIN(il.track_id) first_track_id\n",
    "      FROM invoice_line il\n",
    "     GROUP BY 1\n",
    "    )\n",
    "SELECT\n",
    "   Album_Purchase,\n",
    "   COUNT(invoice_id) Number_of_Invoices,\n",
    "   CAST(count(invoice_id) AS FLOAT) / (\n",
    "                                       SELECT COUNT(*) \n",
    "                                         FROM invoice) Percentage_of_Invoices\n",
    "FROM\n",
    "   (\n",
    "    SELECT\n",
    "      ift.*,\n",
    "      CASE \n",
    "          WHEN\n",
    "              (\n",
    "               SELECT t.track_id\n",
    "                 FROM track t\n",
    "                WHERE t.album_id = (\n",
    "                                    SELECT t2.album_id\n",
    "                                      FROM track t2\n",
    "                                     WHERE t2.track_id = ift.first_track_id\n",
    "                                    )\n",
    "               EXCEPT\n",
    "              \n",
    "               SELECT il2.track_id\n",
    "                 FROM invoice_line il2\n",
    "                WHERE il2.invoice_id = ift.invoice_id\n",
    "              ) IS NULL\n",
    "          AND\n",
    "             (\n",
    "              SELECT il2.track_id\n",
    "                FROM invoice_line il2\n",
    "               WHERE il2.invoice_id = ift.invoice_id\n",
    "                 \n",
    "              EXCEPT\n",
    "                 \n",
    "              SELECT t.track_id\n",
    "                 FROM track t\n",
    "                WHERE t.album_id = (\n",
    "                                    SELECT t2.album_id\n",
    "                                      FROM track t2\n",
    "                                     WHERE t2.track_id = ift.first_track_id\n",
    "                                    )\n",
    "             ) IS NULL\n",
    "          THEN \"YES\"\n",
    "          ELSE \"NO\"\n",
    "       END AS Album_Purchase\n",
    "    FROM invoice_first_track ift\n",
    "   )\n",
    "GROUP BY Album_purchase"
   ]
  },
  {
   "cell_type": "markdown",
   "metadata": {},
   "source": [
    "18% of the purchases are album purchases. Changing the sales strategy to only selling tracks, would mean losing this revenue, so we would advise against it."
   ]
  },
  {
   "cell_type": "markdown",
   "metadata": {},
   "source": [
    "Conclusions\n",
    "\n",
    "As stated from the begining, the purpose of this guided project was to try and answer some business questions using SQL.\n",
    "By looking at the data, we can conclude that to maximize their revenew our store should:\n",
    "- have a focus on getting more albums and tracks from Rock artists\n",
    "- invest in retaining and training their sales force\n",
    "- explore other markets that might be more profitable outside of the US\n",
    "- not change their strategy and continue allowing their custumers to buy albums, not only tracks"
   ]
  }
 ],
 "metadata": {
  "kernelspec": {
   "display_name": "Python 3",
   "language": "python",
   "name": "python3"
  },
  "language_info": {
   "codemirror_mode": {
    "name": "ipython",
    "version": 3
   },
   "file_extension": ".py",
   "mimetype": "text/x-python",
   "name": "python",
   "nbconvert_exporter": "python",
   "pygments_lexer": "ipython3",
   "version": "3.4.3"
  }
 },
 "nbformat": 4,
 "nbformat_minor": 2
}
